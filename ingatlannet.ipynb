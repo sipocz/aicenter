{
  "nbformat": 4,
  "nbformat_minor": 0,
  "metadata": {
    "colab": {
      "name": "ingatlannet.ipynb",
      "provenance": [],
      "authorship_tag": "ABX9TyOn8joe5jXXPqvn7kvowV+6",
      "include_colab_link": true
    },
    "kernelspec": {
      "name": "python3",
      "display_name": "Python 3"
    },
    "language_info": {
      "name": "python"
    }
  },
  "cells": [
    {
      "cell_type": "markdown",
      "metadata": {
        "id": "view-in-github",
        "colab_type": "text"
      },
      "source": [
        "<a href=\"https://colab.research.google.com/github/sipocz/miniflask/blob/main/ingatlannet.ipynb\" target=\"_parent\"><img src=\"https://colab.research.google.com/assets/colab-badge.svg\" alt=\"Open In Colab\"/></a>"
      ]
    },
    {
      "cell_type": "code",
      "metadata": {
        "id": "Lh8XU3UFDZoY"
      },
      "source": [
        "from flask import Flask\n",
        "from flask import render_template_string\n",
        "import os\n",
        "app = Flask(__name__)\n",
        "\n",
        "import requests\n",
        "from bs4 import  BeautifulSoup"
      ],
      "execution_count": null,
      "outputs": []
    },
    {
      "cell_type": "code",
      "metadata": {
        "id": "alW7HbT2Ca6B"
      },
      "source": [
        "def ingatlannet_pages(city):\n",
        "    \n",
        "\n",
        "    header={'User-Agent':\"Mozilla/5.0 (Windows NT 10.0; Win64; x64) AppleWebKit/537.36 (KHTML, like Gecko) Chrome/86.0.4240.75 Safari/537.36\"}\n",
        "    url0=\"https://www.ingatlannet.hu/elad%C3%B3/h%C3%A1z/\"\n",
        "\n",
        "\n",
        "    url=url0+city+\"?page=1&per-page=25&sort=-ar\"\n",
        "    \n",
        "    res=requests.get(url,headers=header)\n",
        "    \n",
        "    soup=BeautifulSoup(res.text,\"html.parser\")\n",
        "    pages=soup.find_all(\"div\",class_=\"text-center page-counter \")\n",
        "    \n",
        "    pages_txt=pages[0].text.strip()\n",
        "    \n",
        "    pages_num=pages_txt.split(\" \")\n",
        "   \n",
        "    \n",
        "    pages_num=pages_num[0]\n",
        "    \n",
        "    pages_num=pages_num.split(\"/\")[1]\n",
        "    pages_num_int=int(pages_num)\n",
        "    if pages_num_int>30:\n",
        "       pages_num_int=1\n",
        "    return(pages_num)\n"
      ],
      "execution_count": null,
      "outputs": []
    },
    {
      "cell_type": "code",
      "metadata": {
        "id": "38j007X0JN4S"
      },
      "source": [
        "\n",
        "def ansicode(sti):\n",
        "    outstr=\"\"\n",
        "    for i in sti:\n",
        "        a=i\n",
        "        if i==\"á\":\n",
        "            a=\"a\"\n",
        "        if i==\"Á\":\n",
        "            a=\"A\"\n",
        "        if i==\"é\":\n",
        "            a=\"e\"\n",
        "        if i==\"É\":\n",
        "            a=\"E\"\n",
        "        if i==\"í\":\n",
        "            a=\"I\"\n",
        "        if i==\"Í\":\n",
        "            a=\"I\"\n",
        "        if i==\"ö\":\n",
        "            a=\"o\"\n",
        "        if i==\"Ö\":\n",
        "            a=\"O\"\n",
        "        if i==\"ő\":\n",
        "            a=\"o\"\n",
        "        if i==\"Ő\":\n",
        "            a=\"O\"\n",
        "        if i==\"ó\":\n",
        "            a=\"o\"\n",
        "        if i==\"Ó\":\n",
        "            a=\"O\"\n",
        "        if i==\"ü\":\n",
        "            a=\"u\"\n",
        "        if i==\"Ü\":\n",
        "            a=\"u\"\n",
        "        if i==\"ú\":\n",
        "            a=\"u\"\n",
        "        if i==\"Ú\":\n",
        "            a=\"u\"\n",
        "        outstr=outstr+a\n",
        "    return(outstr)\n",
        "\n"
      ],
      "execution_count": null,
      "outputs": []
    },
    {
      "cell_type": "code",
      "metadata": {
        "colab": {
          "base_uri": "https://localhost:8080/"
        },
        "id": "_Y_qLlOsDOET",
        "outputId": "d7b27413-ae14-4fe7-8251-aa518306f3d1"
      },
      "source": [
        "print(ingatlannet_pages(\"esztergom\"))"
      ],
      "execution_count": null,
      "outputs": [
        {
          "output_type": "stream",
          "name": "stdout",
          "text": [
            "8\n"
          ]
        }
      ]
    },
    {
      "cell_type": "code",
      "metadata": {
        "id": "7suxKaUgHl8O"
      },
      "source": [
        "def ingatlannet_pages(city):\n",
        "    \n",
        "\n",
        "    header={'User-Agent':\"Mozilla/5.0 (Windows NT 10.0; Win64; x64) AppleWebKit/537.36 (KHTML, like Gecko) Chrome/86.0.4240.75 Safari/537.36\"}\n",
        "    url0=\"https://www.ingatlannet.hu/elad%C3%B3/h%C3%A1z/\"\n",
        "    url=url0+city+\"?page=1&per-page=25&sort=-ar\"\n",
        "    res=requests.get(url,headers=header)\n",
        "    soup=BeautifulSoup(res.text,\"html.parser\")\n",
        "    pages=soup.find_all(\"div\",class_=\"pagination__page-number\")\n",
        "    if len(pages) < 1 :\n",
        "        return(1)\n",
        "    pages_txt=pages[0].text\n",
        "    pages_num=pages_txt.split(\" \")\n",
        "    pages_num_int=int(pages_num[3])\n",
        "    if pages_num_int>30:\n",
        "       pages_num_int=1\n",
        "    return(pages_num_int)\n"
      ],
      "execution_count": null,
      "outputs": []
    },
    {
      "cell_type": "code",
      "metadata": {
        "id": "KaYJPfwWH_gG"
      },
      "source": [
        "def ingatlannet_querycity_page(city,page):\n",
        "    city=ansicode(city)\n",
        "    \n",
        "    header={'User-Agent':\"Mozilla/5.0 (Windows NT 10.0; Win64; x64) AppleWebKit/537.36 (KHTML, like Gecko) Chrome/86.0.4240.75 Safari/537.36\"}\n",
        "    url0=\"https://www.ingatlannet.hu/elad%C3%B3/h%C3%A1z/\"\n",
        "    url=url0+city+\"?page=1&per-page=25&sort=-ar\"\n",
        "   \n",
        "   \n",
        "    #print(url)\n",
        "    res=requests.get(url,headers=header)\n",
        "    soup=BeautifulSoup(res.text,\"html.parser\")\n",
        "  \n",
        "    urllist=soup.find_all(attrs={\"data-behavior\":\"estate-view\",\"target\":\"_blank\"}) # data-behavior=\"estate-view\"\n",
        "    \n",
        " \n",
        "   \n",
        "   \n",
        "\n",
        "    price=soup.find_all(\"p\", class_=\"h2 d-none d-md-block price-text mt-3 mb-3\")\n",
        "    \n",
        "\n",
        "    #print(urllist)\n",
        "    \n",
        "\n",
        "    outp=[]\n",
        "    outl=[]\n",
        "    \n",
        "    for i in urllist:\n",
        "        link=\"https://ingatlan.com\"+i['href']\n",
        "        if link in outl:\n",
        "            pass\n",
        "        else:\n",
        "            outl.append(link)\n",
        "\n",
        "        #print(f\"+{i[0]:>4}. {pricelist[i[0]].text:>18} :  {link:<1000}\")\n",
        "        #print(i[0],\". \",pricelist[i[0]].text,link)\n",
        "      \n",
        "    for i in price:\n",
        "        outp.append(i.text.strip())\n",
        "    o=[]\n",
        "    for i,link in enumerate(outl):\n",
        "        o.append([outp[i],link])\n",
        "        #out.append([urllist[i],pricelist[i]])\n",
        "    #print(outp)\n",
        "    #print(outl)\n",
        "  \n",
        "    return (o)"
      ],
      "execution_count": null,
      "outputs": []
    },
    {
      "cell_type": "code",
      "metadata": {
        "id": "m7x3LcrWI4d1"
      },
      "source": [
        "def ingatlannet_querycity(city):\n",
        "    "
      ],
      "execution_count": null,
      "outputs": []
    },
    {
      "cell_type": "code",
      "metadata": {
        "id": "l5bz6HeeI-Xr"
      },
      "source": [
        "ingatlannet_list=ingatlannet_querycity_page(\"esztergom\",1)\n"
      ],
      "execution_count": null,
      "outputs": []
    },
    {
      "cell_type": "code",
      "metadata": {
        "colab": {
          "base_uri": "https://localhost:8080/"
        },
        "id": "zDTxgEdpIq37",
        "outputId": "2e7f6784-ed2a-4f4f-8297-b423ff6fc795"
      },
      "source": [
        "ingatlannet_list"
      ],
      "execution_count": null,
      "outputs": [
        {
          "output_type": "execute_result",
          "data": {
            "text/plain": [
              "[['29,9 millió Ft',\n",
              "  'https://ingatlan.com/ingatlan/Esztergom/5821619-eladó-családi-ház'],\n",
              " ['29 millió Ft',\n",
              "  'https://ingatlan.com/ingatlan/Esztergom/5778082-eladó-családi-ház'],\n",
              " ['28,9 millió Ft',\n",
              "  'https://ingatlan.com/ingatlan/Esztergom/6101155-eladó-családi-ház'],\n",
              " ['23,4 millió Ft',\n",
              "  'https://ingatlan.com/ingatlan/Esztergom/5555894-eladó-családi-ház'],\n",
              " ['22,7 millió Ft',\n",
              "  'https://ingatlan.com/ingatlan/Esztergom/5878435-eladó-családi-ház'],\n",
              " ['230 millió Ft',\n",
              "  'https://ingatlan.com/ingatlan/Esztergom/6111310-eladó-családi-ház'],\n",
              " ['210 millió Ft',\n",
              "  'https://ingatlan.com/ingatlan/Esztergom/6038192-eladó-családi-ház'],\n",
              " ['210 millió Ft',\n",
              "  'https://ingatlan.com/ingatlan/Esztergom/5997588-eladó-családi-ház'],\n",
              " ['210 millió Ft',\n",
              "  'https://ingatlan.com/ingatlan/Esztergom/5968098-eladó-családi-ház'],\n",
              " ['210 millió Ft',\n",
              "  'https://ingatlan.com/ingatlan/Esztergom/5722589-eladó-családi-ház'],\n",
              " ['210 millió Ft',\n",
              "  'https://ingatlan.com/ingatlan/Esztergom/5603433-eladó-családi-ház'],\n",
              " ['210 millió Ft',\n",
              "  'https://ingatlan.com/ingatlan/Esztergom/5167389-eladó-családi-ház'],\n",
              " ['195 millió Ft',\n",
              "  'https://ingatlan.com/ingatlan/Esztergom/6010004-eladó-családi-ház'],\n",
              " ['195 millió Ft',\n",
              "  'https://ingatlan.com/ingatlan/Esztergom/5997452-eladó-családi-ház'],\n",
              " ['195 millió Ft',\n",
              "  'https://ingatlan.com/ingatlan/Esztergom/5967331-eladó-családi-ház'],\n",
              " ['150 millió Ft',\n",
              "  'https://ingatlan.com/ingatlan/Esztergom/5950794-eladó-családi-ház'],\n",
              " ['139,9 millió Ft',\n",
              "  'https://ingatlan.com/ingatlan/Esztergom/5997451-eladó-családi-ház'],\n",
              " ['139,9 millió Ft',\n",
              "  'https://ingatlan.com/ingatlan/Esztergom/5967199-eladó-családi-ház'],\n",
              " ['139,9 millió Ft',\n",
              "  'https://ingatlan.com/ingatlan/Esztergom/5966727-eladó-családi-ház'],\n",
              " ['139,9 millió Ft',\n",
              "  'https://ingatlan.com/ingatlan/Esztergom/5881069-eladó-családi-ház'],\n",
              " ['139,9 millió Ft',\n",
              "  'https://ingatlan.com/ingatlan/Esztergom/5880887-eladó-családi-ház'],\n",
              " ['139,9 millió Ft',\n",
              "  'https://ingatlan.com/ingatlan/Esztergom/5880346-eladó-családi-ház'],\n",
              " ['139,9 millió Ft',\n",
              "  'https://ingatlan.com/ingatlan/Esztergom/5880202-eladó-családi-ház'],\n",
              " ['138 millió Ft',\n",
              "  'https://ingatlan.com/ingatlan/Esztergom/6056923-eladó-családi-ház'],\n",
              " ['138 millió Ft',\n",
              "  'https://ingatlan.com/ingatlan/Esztergom/6017809-eladó-Kesztölci-út-családi-ház']]"
            ]
          },
          "metadata": {},
          "execution_count": 55
        }
      ]
    },
    {
      "cell_type": "code",
      "metadata": {
        "colab": {
          "base_uri": "https://localhost:8080/"
        },
        "id": "WxYxS-qZFSp8",
        "outputId": "3e7341cd-774e-4158-e621-a059efebebc1"
      },
      "source": [
        ""
      ],
      "execution_count": null,
      "outputs": [
        {
          "output_type": "stream",
          "name": "stdout",
          "text": [
            "False\n"
          ]
        }
      ]
    }
  ]
}
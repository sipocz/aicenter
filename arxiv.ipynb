{
  "nbformat": 4,
  "nbformat_minor": 0,
  "metadata": {
    "colab": {
      "name": "arxiv.ipynb",
      "provenance": [],
      "authorship_tag": "ABX9TyNfzhtBIaWGdSpVFijleug9",
      "include_colab_link": true
    },
    "kernelspec": {
      "name": "python3",
      "display_name": "Python 3"
    },
    "language_info": {
      "name": "python"
    }
  },
  "cells": [
    {
      "cell_type": "markdown",
      "metadata": {
        "id": "view-in-github",
        "colab_type": "text"
      },
      "source": [
        "<a href=\"https://colab.research.google.com/github/sipocz/miniflask/blob/main/arxiv.ipynb\" target=\"_parent\"><img src=\"https://colab.research.google.com/assets/colab-badge.svg\" alt=\"Open In Colab\"/></a>"
      ]
    },
    {
      "cell_type": "code",
      "metadata": {
        "id": "LE18WYIFwjkH"
      },
      "source": [
        "from flask import Flask\n",
        "from flask import render_template_string\n",
        "import os\n",
        "app = Flask(__name__)\n",
        "\n",
        "import requests\n",
        "from bs4 import  BeautifulSoup"
      ],
      "execution_count": 1,
      "outputs": []
    },
    {
      "cell_type": "code",
      "metadata": {
        "id": "eX61V0bKw3qx"
      },
      "source": [
        "def arxiv_pages(code):\n",
        "    \n",
        "\n",
        "    header={'User-Agent':\"Mozilla/5.0 (Windows NT 10.0; Win64; x64) AppleWebKit/537.36 (KHTML, like Gecko) Chrome/86.0.4240.75 Safari/537.36\"}\n",
        "    url=f\"https://arxiv.org/search/?query={code}&searchtype=all&abstracts=hide&order=-announced_date_first&size=50\"\n",
        "\n",
        "\n",
        "    \n",
        "    print(url)\n",
        "    res=requests.get(url,headers=header)\n",
        "    \n",
        "    soup=BeautifulSoup(res.text,\"html.parser\")\n",
        "    pdfs=soup.find_all(\"p\",class_=\"list-title is-inline-block\")\n",
        "    pdflist=[]\n",
        "    for pdf in pdfs:\n",
        "        st=pdf.a[\"href\"]\n",
        "        st=st.replace(\"abs\",\"pdf\")\n",
        "        pdflist+=[st]\n",
        "    #pages_txt=pages[0].text.strip()\n",
        "    #print(pages_txt)\n",
        "    titles=soup.find_all(\"p\",class_=\"title is-5 mathjax\")\n",
        "    titlelist=[]\n",
        "    \n",
        "    for title in titles:\n",
        "        st=title.text.strip()\n",
        "        \n",
        "        titlelist+=[st]\n",
        "    o=[]\n",
        "    for i,title in enumerate(titlelist):\n",
        "        o.append([title,pdflist[i]])\n",
        "    return(o)"
      ],
      "execution_count": 2,
      "outputs": []
    },
    {
      "cell_type": "code",
      "metadata": {
        "id": "zw6tPh4Mc9qV"
      },
      "source": [
        "def arxiv_dates(code):\n",
        "    \n",
        "\n",
        "    header={'User-Agent':\"Mozilla/5.0 (Windows NT 10.0; Win64; x64) AppleWebKit/537.36 (KHTML, like Gecko) Chrome/86.0.4240.75 Safari/537.36\"}\n",
        "    url=f\"https://arxiv.org/search/?query={code}&searchtype=all&abstracts=hide&order=-announced_date_first&size=50\"\n",
        "\n",
        "\n",
        "    \n",
        "    print(url)\n",
        "    res=requests.get(url,headers=header)\n",
        "    \n",
        "    soup=BeautifulSoup(res.text,\"html.parser\")\n",
        "    dates=soup.find_all(\"p\",class_=\"is-size-7\")\n",
        "    datelist=[]\n",
        "    for date in dates:\n",
        "        st=date.text\n",
        "        if \"Submitted\" in st:\n",
        "            st=st.split(\";\")\n",
        "            st=st[0][10:].strip()\n",
        "            if st[0] in \"123456789\":\n",
        "                datelist+=[st]\n",
        "    #pages_txt=pages[0].text.strip()\n",
        "    #print(pages_txt)\n",
        "    \n",
        "    return(datelist)"
      ],
      "execution_count": 32,
      "outputs": []
    },
    {
      "cell_type": "code",
      "metadata": {
        "id": "V-ZC7S6DdXIP"
      },
      "source": [
        ""
      ],
      "execution_count": null,
      "outputs": []
    },
    {
      "cell_type": "code",
      "metadata": {
        "colab": {
          "base_uri": "https://localhost:8080/"
        },
        "id": "O0drV-yq0QwQ",
        "outputId": "fe5ce90a-ba4a-4217-9e14-c1b53a6346e1"
      },
      "source": [
        "o=arxiv_pages(\"time+series\")"
      ],
      "execution_count": 26,
      "outputs": [
        {
          "output_type": "stream",
          "name": "stdout",
          "text": [
            "https://arxiv.org/search/?query=time+series&searchtype=all&abstracts=hide&order=-announced_date_first&size=50\n"
          ]
        }
      ]
    },
    {
      "cell_type": "code",
      "metadata": {
        "colab": {
          "base_uri": "https://localhost:8080/"
        },
        "id": "3z3DmfXIe5jn",
        "outputId": "07c7c688-921e-45e6-b708-4a32f61fc992"
      },
      "source": [
        "o=arxiv_dates(\"time+series\")"
      ],
      "execution_count": 33,
      "outputs": [
        {
          "output_type": "stream",
          "name": "stdout",
          "text": [
            "https://arxiv.org/search/?query=time+series&searchtype=all&abstracts=hide&order=-announced_date_first&size=50\n"
          ]
        }
      ]
    },
    {
      "cell_type": "code",
      "metadata": {
        "colab": {
          "base_uri": "https://localhost:8080/"
        },
        "id": "nKLyU4grgcRx",
        "outputId": "ab9482ef-1aad-44c1-d788-0267735539b0"
      },
      "source": [
        "o"
      ],
      "execution_count": 34,
      "outputs": [
        {
          "output_type": "execute_result",
          "data": {
            "text/plain": [
              "['2 September, 2021',\n",
              " '2 September, 2021',\n",
              " '1 September, 2021',\n",
              " '2 September, 2021',\n",
              " '2 September, 2021',\n",
              " '29 August, 2021',\n",
              " '2 September, 2021',\n",
              " '2 September, 2021',\n",
              " '2 September, 2021',\n",
              " '1 September, 2021',\n",
              " '1 September, 2021',\n",
              " '1 September, 2021',\n",
              " '1 September, 2021',\n",
              " '1 September, 2021',\n",
              " '31 August, 2021',\n",
              " '31 August, 2021',\n",
              " '31 August, 2021',\n",
              " '31 August, 2021',\n",
              " '31 August, 2021',\n",
              " '31 August, 2021',\n",
              " '31 August, 2021',\n",
              " '31 August, 2021',\n",
              " '31 August, 2021',\n",
              " '30 August, 2021',\n",
              " '30 August, 2021',\n",
              " '18 August, 2021',\n",
              " '30 August, 2021',\n",
              " '30 August, 2021',\n",
              " '29 August, 2021',\n",
              " '29 August, 2021',\n",
              " '29 August, 2021',\n",
              " '27 August, 2021',\n",
              " '27 August, 2021',\n",
              " '27 August, 2021',\n",
              " '27 August, 2021',\n",
              " '27 August, 2021',\n",
              " '27 August, 2021',\n",
              " '26 August, 2021',\n",
              " '26 August, 2021',\n",
              " '26 August, 2021',\n",
              " '26 August, 2021',\n",
              " '26 August, 2021',\n",
              " '26 August, 2021',\n",
              " '24 August, 2021',\n",
              " '5 August, 2021',\n",
              " '25 August, 2021',\n",
              " '25 August, 2021',\n",
              " '25 August, 2021',\n",
              " '25 August, 2021',\n",
              " '25 August, 2021']"
            ]
          },
          "metadata": {},
          "execution_count": 34
        }
      ]
    }
  ]
}